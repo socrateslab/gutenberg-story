{
 "cells": [
  {
   "cell_type": "code",
   "execution_count": 1,
   "metadata": {
    "ExecuteTime": {
     "end_time": "2021-08-26T06:25:12.942686Z",
     "start_time": "2021-08-26T06:25:12.817102Z"
    }
   },
   "outputs": [
    {
     "name": "stdout",
     "output_type": "stream",
     "text": [
      "README.md                     未命名.ipynb\r\n",
      "SPGC-metadata-2018-07-18.csv\r\n"
     ]
    }
   ],
   "source": [
    "ls"
   ]
  },
  {
   "cell_type": "code",
   "execution_count": 93,
   "metadata": {
    "ExecuteTime": {
     "end_time": "2021-08-26T07:22:56.220402Z",
     "start_time": "2021-08-26T07:22:56.216327Z"
    }
   },
   "outputs": [],
   "source": [
    "import pandas as pd\n",
    "from collections import defaultdict\n",
    "\n",
    "import requests\n",
    "from bs4 import BeautifulSoup \n",
    "\n",
    "import sys\n",
    "\n",
    "# flush print\n",
    "def flushPrint(d):\n",
    "    sys.stdout.write('\\r')\n",
    "    sys.stdout.write(str(d))\n",
    "    sys.stdout.flush()\n"
   ]
  },
  {
   "cell_type": "code",
   "execution_count": 4,
   "metadata": {
    "ExecuteTime": {
     "end_time": "2021-08-26T06:25:56.665429Z",
     "start_time": "2021-08-26T06:25:56.469229Z"
    }
   },
   "outputs": [
    {
     "data": {
      "text/html": [
       "<div>\n",
       "<style scoped>\n",
       "    .dataframe tbody tr th:only-of-type {\n",
       "        vertical-align: middle;\n",
       "    }\n",
       "\n",
       "    .dataframe tbody tr th {\n",
       "        vertical-align: top;\n",
       "    }\n",
       "\n",
       "    .dataframe thead th {\n",
       "        text-align: right;\n",
       "    }\n",
       "</style>\n",
       "<table border=\"1\" class=\"dataframe\">\n",
       "  <thead>\n",
       "    <tr style=\"text-align: right;\">\n",
       "      <th></th>\n",
       "      <th>id</th>\n",
       "      <th>title</th>\n",
       "      <th>author</th>\n",
       "      <th>authoryearofbirth</th>\n",
       "      <th>authoryearofdeath</th>\n",
       "      <th>language</th>\n",
       "      <th>downloads</th>\n",
       "      <th>subjects</th>\n",
       "      <th>type</th>\n",
       "    </tr>\n",
       "  </thead>\n",
       "  <tbody>\n",
       "    <tr>\n",
       "      <th>0</th>\n",
       "      <td>PG0</td>\n",
       "      <td>NaN</td>\n",
       "      <td>NaN</td>\n",
       "      <td>NaN</td>\n",
       "      <td>NaN</td>\n",
       "      <td>NaN</td>\n",
       "      <td>NaN</td>\n",
       "      <td>set()</td>\n",
       "      <td>Text</td>\n",
       "    </tr>\n",
       "    <tr>\n",
       "      <th>1</th>\n",
       "      <td>PG1</td>\n",
       "      <td>The Declaration of Independence of the United ...</td>\n",
       "      <td>Jefferson, Thomas</td>\n",
       "      <td>1743.0</td>\n",
       "      <td>1826.0</td>\n",
       "      <td>['en']</td>\n",
       "      <td>604.0</td>\n",
       "      <td>{'United States -- History -- Revolution, 1775...</td>\n",
       "      <td>Text</td>\n",
       "    </tr>\n",
       "    <tr>\n",
       "      <th>2</th>\n",
       "      <td>PG2</td>\n",
       "      <td>The United States Bill of Rights: The Ten Orig...</td>\n",
       "      <td>United States</td>\n",
       "      <td>NaN</td>\n",
       "      <td>NaN</td>\n",
       "      <td>['en']</td>\n",
       "      <td>158.0</td>\n",
       "      <td>{'Civil rights -- United States -- Sources', '...</td>\n",
       "      <td>Text</td>\n",
       "    </tr>\n",
       "  </tbody>\n",
       "</table>\n",
       "</div>"
      ],
      "text/plain": [
       "    id                                              title             author  \\\n",
       "0  PG0                                                NaN                NaN   \n",
       "1  PG1  The Declaration of Independence of the United ...  Jefferson, Thomas   \n",
       "2  PG2  The United States Bill of Rights: The Ten Orig...      United States   \n",
       "\n",
       "   authoryearofbirth  authoryearofdeath language  downloads  \\\n",
       "0                NaN                NaN      NaN        NaN   \n",
       "1             1743.0             1826.0   ['en']      604.0   \n",
       "2                NaN                NaN   ['en']      158.0   \n",
       "\n",
       "                                            subjects  type  \n",
       "0                                              set()  Text  \n",
       "1  {'United States -- History -- Revolution, 1775...  Text  \n",
       "2  {'Civil rights -- United States -- Sources', '...  Text  "
      ]
     },
     "execution_count": 4,
     "metadata": {},
     "output_type": "execute_result"
    }
   ],
   "source": [
    "# https://zenodo.org/record/2422561#.YSckv9MzbOQ\n",
    "df = pd.read_csv('SPGC-metadata-2018-07-18.csv')\n",
    "df[:3]"
   ]
  },
  {
   "cell_type": "code",
   "execution_count": 36,
   "metadata": {
    "ExecuteTime": {
     "end_time": "2021-08-26T06:38:45.706028Z",
     "start_time": "2021-08-26T06:38:45.678276Z"
    }
   },
   "outputs": [],
   "source": [
    "df['Fiction'] = [1 if 'Fiction' in i  else 0 for i in df['subjects']]"
   ]
  },
  {
   "cell_type": "code",
   "execution_count": 38,
   "metadata": {
    "ExecuteTime": {
     "end_time": "2021-08-26T06:39:17.671113Z",
     "start_time": "2021-08-26T06:39:17.663291Z"
    }
   },
   "outputs": [
    {
     "data": {
      "text/plain": [
       "13302"
      ]
     },
     "execution_count": 38,
     "metadata": {},
     "output_type": "execute_result"
    }
   ],
   "source": [
    "dff = df[df['Fiction']==1]\n",
    "len(dff)"
   ]
  },
  {
   "cell_type": "code",
   "execution_count": 39,
   "metadata": {
    "ExecuteTime": {
     "end_time": "2021-08-26T06:39:25.155792Z",
     "start_time": "2021-08-26T06:39:25.134496Z"
    }
   },
   "outputs": [
    {
     "data": {
      "text/html": [
       "<div>\n",
       "<style scoped>\n",
       "    .dataframe tbody tr th:only-of-type {\n",
       "        vertical-align: middle;\n",
       "    }\n",
       "\n",
       "    .dataframe tbody tr th {\n",
       "        vertical-align: top;\n",
       "    }\n",
       "\n",
       "    .dataframe thead th {\n",
       "        text-align: right;\n",
       "    }\n",
       "</style>\n",
       "<table border=\"1\" class=\"dataframe\">\n",
       "  <thead>\n",
       "    <tr style=\"text-align: right;\">\n",
       "      <th></th>\n",
       "      <th>id</th>\n",
       "      <th>title</th>\n",
       "      <th>author</th>\n",
       "      <th>authoryearofbirth</th>\n",
       "      <th>authoryearofdeath</th>\n",
       "      <th>language</th>\n",
       "      <th>downloads</th>\n",
       "      <th>subjects</th>\n",
       "      <th>type</th>\n",
       "      <th>Fiction</th>\n",
       "    </tr>\n",
       "  </thead>\n",
       "  <tbody>\n",
       "    <tr>\n",
       "      <th>15</th>\n",
       "      <td>PG15</td>\n",
       "      <td>Moby Dick</td>\n",
       "      <td>Melville, Herman</td>\n",
       "      <td>1819.0</td>\n",
       "      <td>1891.0</td>\n",
       "      <td>['en']</td>\n",
       "      <td>905.0</td>\n",
       "      <td>{'Mentally ill -- Fiction', 'Whaling ships -- ...</td>\n",
       "      <td>Text</td>\n",
       "      <td>1</td>\n",
       "    </tr>\n",
       "    <tr>\n",
       "      <th>16</th>\n",
       "      <td>PG16</td>\n",
       "      <td>Peter Pan</td>\n",
       "      <td>Barrie, J. M. (James Matthew)</td>\n",
       "      <td>1860.0</td>\n",
       "      <td>1937.0</td>\n",
       "      <td>['en']</td>\n",
       "      <td>5359.0</td>\n",
       "      <td>{'Fantasy literature', 'Pirates -- Fiction', '...</td>\n",
       "      <td>Text</td>\n",
       "      <td>1</td>\n",
       "    </tr>\n",
       "    <tr>\n",
       "      <th>24</th>\n",
       "      <td>PG24</td>\n",
       "      <td>O Pioneers!</td>\n",
       "      <td>Cather, Willa</td>\n",
       "      <td>1873.0</td>\n",
       "      <td>1947.0</td>\n",
       "      <td>['en']</td>\n",
       "      <td>448.0</td>\n",
       "      <td>{'Swedish Americans -- Fiction', 'Domestic fic...</td>\n",
       "      <td>Text</td>\n",
       "      <td>1</td>\n",
       "    </tr>\n",
       "    <tr>\n",
       "      <th>27</th>\n",
       "      <td>PG27</td>\n",
       "      <td>Far from the Madding Crowd</td>\n",
       "      <td>Hardy, Thomas</td>\n",
       "      <td>1840.0</td>\n",
       "      <td>1928.0</td>\n",
       "      <td>['en']</td>\n",
       "      <td>411.0</td>\n",
       "      <td>{'Love stories', 'Wessex (England) -- Fiction'...</td>\n",
       "      <td>Text</td>\n",
       "      <td>1</td>\n",
       "    </tr>\n",
       "    <tr>\n",
       "      <th>32</th>\n",
       "      <td>PG32</td>\n",
       "      <td>Herland</td>\n",
       "      <td>Gilman, Charlotte Perkins</td>\n",
       "      <td>1860.0</td>\n",
       "      <td>1935.0</td>\n",
       "      <td>['en']</td>\n",
       "      <td>642.0</td>\n",
       "      <td>{'Women -- Fiction', 'Utopias -- Fiction', 'Ut...</td>\n",
       "      <td>Text</td>\n",
       "      <td>1</td>\n",
       "    </tr>\n",
       "    <tr>\n",
       "      <th>...</th>\n",
       "      <td>...</td>\n",
       "      <td>...</td>\n",
       "      <td>...</td>\n",
       "      <td>...</td>\n",
       "      <td>...</td>\n",
       "      <td>...</td>\n",
       "      <td>...</td>\n",
       "      <td>...</td>\n",
       "      <td>...</td>\n",
       "      <td>...</td>\n",
       "    </tr>\n",
       "    <tr>\n",
       "      <th>56561</th>\n",
       "      <td>PG56563</td>\n",
       "      <td>Her Sailor: A Love Story</td>\n",
       "      <td>Saunders, Marshall</td>\n",
       "      <td>1861.0</td>\n",
       "      <td>1947.0</td>\n",
       "      <td>['en']</td>\n",
       "      <td>13.0</td>\n",
       "      <td>{'New England -- Social life and customs -- Fi...</td>\n",
       "      <td>Text</td>\n",
       "      <td>1</td>\n",
       "    </tr>\n",
       "    <tr>\n",
       "      <th>56650</th>\n",
       "      <td>PG56652</td>\n",
       "      <td>Kitty of the Roses</td>\n",
       "      <td>Barbour, Ralph Henry</td>\n",
       "      <td>1870.0</td>\n",
       "      <td>1944.0</td>\n",
       "      <td>['en']</td>\n",
       "      <td>25.0</td>\n",
       "      <td>{'Southern States -- Fiction', 'Romance fiction'}</td>\n",
       "      <td>Text</td>\n",
       "      <td>1</td>\n",
       "    </tr>\n",
       "    <tr>\n",
       "      <th>56758</th>\n",
       "      <td>PG56760</td>\n",
       "      <td>De drie steden: Lourdes</td>\n",
       "      <td>Zola, Émile</td>\n",
       "      <td>1840.0</td>\n",
       "      <td>1902.0</td>\n",
       "      <td>['nl']</td>\n",
       "      <td>23.0</td>\n",
       "      <td>{'Lourdes (France) -- Fiction', 'Catholics -- ...</td>\n",
       "      <td>Text</td>\n",
       "      <td>1</td>\n",
       "    </tr>\n",
       "    <tr>\n",
       "      <th>57135</th>\n",
       "      <td>PG57137</td>\n",
       "      <td>Barry Wynn: Or, The Adventures of a Page Boy i...</td>\n",
       "      <td>Barton, George</td>\n",
       "      <td>1866.0</td>\n",
       "      <td>1940.0</td>\n",
       "      <td>['en']</td>\n",
       "      <td>66.0</td>\n",
       "      <td>{'Capitol pages -- Fiction'}</td>\n",
       "      <td>Text</td>\n",
       "      <td>1</td>\n",
       "    </tr>\n",
       "    <tr>\n",
       "      <th>57442</th>\n",
       "      <td>PG57444</td>\n",
       "      <td>Gypsy and Ginger</td>\n",
       "      <td>Farjeon, Eleanor</td>\n",
       "      <td>1881.0</td>\n",
       "      <td>1965.0</td>\n",
       "      <td>['en']</td>\n",
       "      <td>186.0</td>\n",
       "      <td>{'Married people -- Fiction'}</td>\n",
       "      <td>Text</td>\n",
       "      <td>1</td>\n",
       "    </tr>\n",
       "  </tbody>\n",
       "</table>\n",
       "<p>13302 rows × 10 columns</p>\n",
       "</div>"
      ],
      "text/plain": [
       "            id                                              title  \\\n",
       "15        PG15                                          Moby Dick   \n",
       "16        PG16                                          Peter Pan   \n",
       "24        PG24                                        O Pioneers!   \n",
       "27        PG27                         Far from the Madding Crowd   \n",
       "32        PG32                                            Herland   \n",
       "...        ...                                                ...   \n",
       "56561  PG56563                           Her Sailor: A Love Story   \n",
       "56650  PG56652                                 Kitty of the Roses   \n",
       "56758  PG56760                            De drie steden: Lourdes   \n",
       "57135  PG57137  Barry Wynn: Or, The Adventures of a Page Boy i...   \n",
       "57442  PG57444                                   Gypsy and Ginger   \n",
       "\n",
       "                              author  authoryearofbirth  authoryearofdeath  \\\n",
       "15                  Melville, Herman             1819.0             1891.0   \n",
       "16     Barrie, J. M. (James Matthew)             1860.0             1937.0   \n",
       "24                     Cather, Willa             1873.0             1947.0   \n",
       "27                     Hardy, Thomas             1840.0             1928.0   \n",
       "32         Gilman, Charlotte Perkins             1860.0             1935.0   \n",
       "...                              ...                ...                ...   \n",
       "56561             Saunders, Marshall             1861.0             1947.0   \n",
       "56650           Barbour, Ralph Henry             1870.0             1944.0   \n",
       "56758                    Zola, Émile             1840.0             1902.0   \n",
       "57135                 Barton, George             1866.0             1940.0   \n",
       "57442               Farjeon, Eleanor             1881.0             1965.0   \n",
       "\n",
       "      language  downloads                                           subjects  \\\n",
       "15      ['en']      905.0  {'Mentally ill -- Fiction', 'Whaling ships -- ...   \n",
       "16      ['en']     5359.0  {'Fantasy literature', 'Pirates -- Fiction', '...   \n",
       "24      ['en']      448.0  {'Swedish Americans -- Fiction', 'Domestic fic...   \n",
       "27      ['en']      411.0  {'Love stories', 'Wessex (England) -- Fiction'...   \n",
       "32      ['en']      642.0  {'Women -- Fiction', 'Utopias -- Fiction', 'Ut...   \n",
       "...        ...        ...                                                ...   \n",
       "56561   ['en']       13.0  {'New England -- Social life and customs -- Fi...   \n",
       "56650   ['en']       25.0  {'Southern States -- Fiction', 'Romance fiction'}   \n",
       "56758   ['nl']       23.0  {'Lourdes (France) -- Fiction', 'Catholics -- ...   \n",
       "57135   ['en']       66.0                       {'Capitol pages -- Fiction'}   \n",
       "57442   ['en']      186.0                      {'Married people -- Fiction'}   \n",
       "\n",
       "       type  Fiction  \n",
       "15     Text        1  \n",
       "16     Text        1  \n",
       "24     Text        1  \n",
       "27     Text        1  \n",
       "32     Text        1  \n",
       "...     ...      ...  \n",
       "56561  Text        1  \n",
       "56650  Text        1  \n",
       "56758  Text        1  \n",
       "57135  Text        1  \n",
       "57442  Text        1  \n",
       "\n",
       "[13302 rows x 10 columns]"
      ]
     },
     "execution_count": 39,
     "metadata": {},
     "output_type": "execute_result"
    }
   ],
   "source": [
    "dff"
   ]
  },
  {
   "cell_type": "markdown",
   "metadata": {},
   "source": [
    "# download 13302 Fictions from Gutenberg"
   ]
  },
  {
   "cell_type": "code",
   "execution_count": 49,
   "metadata": {
    "ExecuteTime": {
     "end_time": "2021-08-26T06:54:57.055995Z",
     "start_time": "2021-08-26T06:54:57.044879Z"
    }
   },
   "outputs": [],
   "source": [
    "base_url = 'https://www.gutenberg.org/ebooks/'\n",
    "urls = [base_url+i.replace('PG', '')   for i in dff['id']]"
   ]
  },
  {
   "cell_type": "code",
   "execution_count": 52,
   "metadata": {
    "ExecuteTime": {
     "end_time": "2021-08-26T06:55:22.679547Z",
     "start_time": "2021-08-26T06:55:22.675798Z"
    }
   },
   "outputs": [
    {
     "name": "stdout",
     "output_type": "stream",
     "text": [
      "https://www.gutenberg.org/ebooks/15\n"
     ]
    }
   ],
   "source": [
    "print(urls[0])"
   ]
  },
  {
   "cell_type": "code",
   "execution_count": 91,
   "metadata": {
    "ExecuteTime": {
     "end_time": "2021-08-26T07:18:19.072649Z",
     "start_time": "2021-08-26T07:18:19.068517Z"
    }
   },
   "outputs": [
    {
     "data": {
      "text/plain": [
       "'https://www.gutenberg.org/ebooks/15'"
      ]
     },
     "execution_count": 91,
     "metadata": {},
     "output_type": "execute_result"
    }
   ],
   "source": [
    "urls[0].replace(base_url, '')+'.txt'"
   ]
  },
  {
   "cell_type": "code",
   "execution_count": 92,
   "metadata": {
    "ExecuteTime": {
     "end_time": "2021-08-26T07:22:56.214032Z",
     "start_time": "2021-08-26T07:21:03.294363Z"
    }
   },
   "outputs": [
    {
     "name": "stdout",
     "output_type": "stream",
     "text": [
      "0\n"
     ]
    }
   ],
   "source": [
    "error_log=[]\n",
    "for k, i in enumerate(urls[:5]):\n",
    "    flushPrint(k, i)\n",
    "    try:\n",
    "        content = requests.get(i)\n",
    "        soup = BeautifulSoup(content.text, 'html.parser') \n",
    "        list_href=[i['href'] for i in soup.find_all('a', {'class', 'link'})]\n",
    "        txt_href = [i for i in list_href  if '.txt' in i][0]\n",
    "        content = requests.get('https://www.gutenberg.org'+txt_href)\n",
    "        content.encoding = 'utf-8'\n",
    "        with open(i.replace(base_url, '')+'.txt', 'w') as f:\n",
    "            f.write(content.text)\n",
    "    except Exception as e:\n",
    "        error_log.append([i, e])\n",
    "        pass\n",
    "        "
   ]
  },
  {
   "cell_type": "code",
   "execution_count": 56,
   "metadata": {
    "ExecuteTime": {
     "end_time": "2021-08-26T06:56:46.391870Z",
     "start_time": "2021-08-26T06:56:46.369939Z"
    }
   },
   "outputs": [],
   "source": [
    "content = requests.get(urls[0])\n",
    "soup = BeautifulSoup(content.text, 'html.parser') "
   ]
  },
  {
   "cell_type": "code",
   "execution_count": 75,
   "metadata": {
    "ExecuteTime": {
     "end_time": "2021-08-26T07:06:32.255293Z",
     "start_time": "2021-08-26T07:06:32.248903Z"
    }
   },
   "outputs": [],
   "source": [
    "list_href=[i['href'] for i in soup.find_all('a', {'class', 'link'})]\n",
    "txt_href = [i for i in list_href  if '.txt' in i][0]"
   ]
  },
  {
   "cell_type": "code",
   "execution_count": 83,
   "metadata": {
    "ExecuteTime": {
     "end_time": "2021-08-26T07:10:38.315683Z",
     "start_time": "2021-08-26T07:10:38.313283Z"
    }
   },
   "outputs": [],
   "source": [
    "content = requests.get('https://www.gutenberg.org'+txt_href)\n",
    "content.encoding = 'utf-8'"
   ]
  },
  {
   "cell_type": "code",
   "execution_count": 86,
   "metadata": {
    "ExecuteTime": {
     "end_time": "2021-08-26T07:12:41.689708Z",
     "start_time": "2021-08-26T07:12:41.685817Z"
    }
   },
   "outputs": [
    {
     "data": {
      "text/plain": [
       "'/files/15/15-0.txt'"
      ]
     },
     "execution_count": 86,
     "metadata": {},
     "output_type": "execute_result"
    }
   ],
   "source": [
    "txt_href.replace('/', '|')"
   ]
  },
  {
   "cell_type": "code",
   "execution_count": 87,
   "metadata": {
    "ExecuteTime": {
     "end_time": "2021-08-26T07:14:39.163601Z",
     "start_time": "2021-08-26T07:14:39.155929Z"
    }
   },
   "outputs": [],
   "source": [
    "with open(txt_href.replace('/', '|'), 'w') as f:\n",
    "    f.write(content.text)"
   ]
  },
  {
   "cell_type": "code",
   "execution_count": null,
   "metadata": {},
   "outputs": [],
   "source": []
  },
  {
   "cell_type": "code",
   "execution_count": null,
   "metadata": {},
   "outputs": [],
   "source": []
  },
  {
   "cell_type": "code",
   "execution_count": null,
   "metadata": {},
   "outputs": [],
   "source": []
  },
  {
   "cell_type": "code",
   "execution_count": null,
   "metadata": {},
   "outputs": [],
   "source": []
  },
  {
   "cell_type": "code",
   "execution_count": null,
   "metadata": {},
   "outputs": [],
   "source": []
  },
  {
   "cell_type": "code",
   "execution_count": 12,
   "metadata": {
    "ExecuteTime": {
     "end_time": "2021-08-26T06:28:30.811772Z",
     "start_time": "2021-08-26T06:28:29.966220Z"
    }
   },
   "outputs": [],
   "source": [
    "cat_dic = defaultdict(int)\n",
    "for i in df.index:\n",
    "    catset = eval(df['subjects'][i])\n",
    "    for j in catset:\n",
    "        cat_dic[j] += 1"
   ]
  },
  {
   "cell_type": "code",
   "execution_count": 31,
   "metadata": {
    "ExecuteTime": {
     "end_time": "2021-08-26T06:34:52.503942Z",
     "start_time": "2021-08-26T06:34:52.487321Z"
    }
   },
   "outputs": [],
   "source": [
    "df_cat = pd.DataFrame(cat_dic.items(), columns = ['cat', 'freq'])"
   ]
  },
  {
   "cell_type": "code",
   "execution_count": 34,
   "metadata": {
    "ExecuteTime": {
     "end_time": "2021-08-26T06:36:43.386167Z",
     "start_time": "2021-08-26T06:36:43.372002Z"
    }
   },
   "outputs": [
    {
     "data": {
      "text/html": [
       "<div>\n",
       "<style scoped>\n",
       "    .dataframe tbody tr th:only-of-type {\n",
       "        vertical-align: middle;\n",
       "    }\n",
       "\n",
       "    .dataframe tbody tr th {\n",
       "        vertical-align: top;\n",
       "    }\n",
       "\n",
       "    .dataframe thead th {\n",
       "        text-align: right;\n",
       "    }\n",
       "</style>\n",
       "<table border=\"1\" class=\"dataframe\">\n",
       "  <thead>\n",
       "    <tr style=\"text-align: right;\">\n",
       "      <th></th>\n",
       "      <th>cat</th>\n",
       "      <th>freq</th>\n",
       "    </tr>\n",
       "  </thead>\n",
       "  <tbody>\n",
       "    <tr>\n",
       "      <th>554</th>\n",
       "      <td>Fiction</td>\n",
       "      <td>2007</td>\n",
       "    </tr>\n",
       "    <tr>\n",
       "      <th>308</th>\n",
       "      <td>Short stories</td>\n",
       "      <td>1858</td>\n",
       "    </tr>\n",
       "    <tr>\n",
       "      <th>93</th>\n",
       "      <td>Science fiction</td>\n",
       "      <td>1652</td>\n",
       "    </tr>\n",
       "    <tr>\n",
       "      <th>32</th>\n",
       "      <td>Adventure stories</td>\n",
       "      <td>923</td>\n",
       "    </tr>\n",
       "    <tr>\n",
       "      <th>60</th>\n",
       "      <td>Historical fiction</td>\n",
       "      <td>759</td>\n",
       "    </tr>\n",
       "    <tr>\n",
       "      <th>66</th>\n",
       "      <td>Love stories</td>\n",
       "      <td>719</td>\n",
       "    </tr>\n",
       "    <tr>\n",
       "      <th>155</th>\n",
       "      <td>Conduct of life -- Juvenile fiction</td>\n",
       "      <td>699</td>\n",
       "    </tr>\n",
       "    <tr>\n",
       "      <th>390</th>\n",
       "      <td>Poetry</td>\n",
       "      <td>693</td>\n",
       "    </tr>\n",
       "    <tr>\n",
       "      <th>436</th>\n",
       "      <td>Detective and mystery stories</td>\n",
       "      <td>606</td>\n",
       "    </tr>\n",
       "    <tr>\n",
       "      <th>6985</th>\n",
       "      <td>English wit and humor -- Periodicals</td>\n",
       "      <td>556</td>\n",
       "    </tr>\n",
       "    <tr>\n",
       "      <th>301</th>\n",
       "      <td>Man-woman relationships -- Fiction</td>\n",
       "      <td>487</td>\n",
       "    </tr>\n",
       "    <tr>\n",
       "      <th>561</th>\n",
       "      <td>Western stories</td>\n",
       "      <td>449</td>\n",
       "    </tr>\n",
       "    <tr>\n",
       "      <th>174</th>\n",
       "      <td>Children's stories</td>\n",
       "      <td>406</td>\n",
       "    </tr>\n",
       "    <tr>\n",
       "      <th>324</th>\n",
       "      <td>England -- Fiction</td>\n",
       "      <td>388</td>\n",
       "    </tr>\n",
       "    <tr>\n",
       "      <th>173</th>\n",
       "      <td>Fairy tales</td>\n",
       "      <td>365</td>\n",
       "    </tr>\n",
       "    <tr>\n",
       "      <th>157</th>\n",
       "      <td>Friendship -- Juvenile fiction</td>\n",
       "      <td>347</td>\n",
       "    </tr>\n",
       "    <tr>\n",
       "      <th>799</th>\n",
       "      <td>Comedies</td>\n",
       "      <td>328</td>\n",
       "    </tr>\n",
       "    <tr>\n",
       "      <th>62</th>\n",
       "      <td>Domestic fiction</td>\n",
       "      <td>328</td>\n",
       "    </tr>\n",
       "    <tr>\n",
       "      <th>119</th>\n",
       "      <td>Young women -- Fiction</td>\n",
       "      <td>327</td>\n",
       "    </tr>\n",
       "    <tr>\n",
       "      <th>206</th>\n",
       "      <td>Humorous stories</td>\n",
       "      <td>311</td>\n",
       "    </tr>\n",
       "    <tr>\n",
       "      <th>25</th>\n",
       "      <td>Sea stories</td>\n",
       "      <td>287</td>\n",
       "    </tr>\n",
       "    <tr>\n",
       "      <th>3378</th>\n",
       "      <td>Children -- Conduct of life -- Juvenile fiction</td>\n",
       "      <td>283</td>\n",
       "    </tr>\n",
       "    <tr>\n",
       "      <th>1403</th>\n",
       "      <td>English fiction -- 19th century</td>\n",
       "      <td>272</td>\n",
       "    </tr>\n",
       "    <tr>\n",
       "      <th>4278</th>\n",
       "      <td>Christian life -- Juvenile fiction</td>\n",
       "      <td>270</td>\n",
       "    </tr>\n",
       "    <tr>\n",
       "      <th>1002</th>\n",
       "      <td>Adventure and adventurers -- Juvenile fiction</td>\n",
       "      <td>268</td>\n",
       "    </tr>\n",
       "    <tr>\n",
       "      <th>26</th>\n",
       "      <td>Psychological fiction</td>\n",
       "      <td>248</td>\n",
       "    </tr>\n",
       "    <tr>\n",
       "      <th>292</th>\n",
       "      <td>England -- Social life and customs -- 19th cen...</td>\n",
       "      <td>246</td>\n",
       "    </tr>\n",
       "    <tr>\n",
       "      <th>221</th>\n",
       "      <td>Fantasy fiction</td>\n",
       "      <td>244</td>\n",
       "    </tr>\n",
       "    <tr>\n",
       "      <th>1078</th>\n",
       "      <td>Brothers and sisters -- Juvenile fiction</td>\n",
       "      <td>240</td>\n",
       "    </tr>\n",
       "    <tr>\n",
       "      <th>154</th>\n",
       "      <td>Voyages and travels -- Juvenile fiction</td>\n",
       "      <td>237</td>\n",
       "    </tr>\n",
       "    <tr>\n",
       "      <th>3440</th>\n",
       "      <td>German fiction -- Translations into English</td>\n",
       "      <td>232</td>\n",
       "    </tr>\n",
       "    <tr>\n",
       "      <th>1008</th>\n",
       "      <td>Animals -- Juvenile fiction</td>\n",
       "      <td>226</td>\n",
       "    </tr>\n",
       "    <tr>\n",
       "      <th>275</th>\n",
       "      <td>Essays</td>\n",
       "      <td>225</td>\n",
       "    </tr>\n",
       "    <tr>\n",
       "      <th>118</th>\n",
       "      <td>Bildungsromans</td>\n",
       "      <td>223</td>\n",
       "    </tr>\n",
       "    <tr>\n",
       "      <th>10136</th>\n",
       "      <td>Illustrated periodicals -- France</td>\n",
       "      <td>222</td>\n",
       "    </tr>\n",
       "    <tr>\n",
       "      <th>98</th>\n",
       "      <td>War stories</td>\n",
       "      <td>222</td>\n",
       "    </tr>\n",
       "    <tr>\n",
       "      <th>6967</th>\n",
       "      <td>Questions and answers -- Periodicals</td>\n",
       "      <td>219</td>\n",
       "    </tr>\n",
       "    <tr>\n",
       "      <th>457</th>\n",
       "      <td>French fiction -- Translations into English</td>\n",
       "      <td>214</td>\n",
       "    </tr>\n",
       "    <tr>\n",
       "      <th>415</th>\n",
       "      <td>Inheritance and succession -- Fiction</td>\n",
       "      <td>211</td>\n",
       "    </tr>\n",
       "    <tr>\n",
       "      <th>258</th>\n",
       "      <td>Mystery fiction</td>\n",
       "      <td>210</td>\n",
       "    </tr>\n",
       "    <tr>\n",
       "      <th>1001</th>\n",
       "      <td>Girls -- Juvenile fiction</td>\n",
       "      <td>210</td>\n",
       "    </tr>\n",
       "    <tr>\n",
       "      <th>447</th>\n",
       "      <td>Mystery and detective stories</td>\n",
       "      <td>208</td>\n",
       "    </tr>\n",
       "    <tr>\n",
       "      <th>177</th>\n",
       "      <td>English poetry</td>\n",
       "      <td>208</td>\n",
       "    </tr>\n",
       "    <tr>\n",
       "      <th>109</th>\n",
       "      <td>London (England) -- Fiction</td>\n",
       "      <td>207</td>\n",
       "    </tr>\n",
       "    <tr>\n",
       "      <th>77</th>\n",
       "      <td>Tragedies</td>\n",
       "      <td>206</td>\n",
       "    </tr>\n",
       "    <tr>\n",
       "      <th>3742</th>\n",
       "      <td>Popular literature -- Great Britain -- Periodi...</td>\n",
       "      <td>202</td>\n",
       "    </tr>\n",
       "    <tr>\n",
       "      <th>1358</th>\n",
       "      <td>England -- Social life and customs -- Fiction</td>\n",
       "      <td>197</td>\n",
       "    </tr>\n",
       "    <tr>\n",
       "      <th>647</th>\n",
       "      <td>Short stories, American</td>\n",
       "      <td>190</td>\n",
       "    </tr>\n",
       "    <tr>\n",
       "      <th>1678</th>\n",
       "      <td>Science -- Periodicals</td>\n",
       "      <td>188</td>\n",
       "    </tr>\n",
       "    <tr>\n",
       "      <th>298</th>\n",
       "      <td>American poetry</td>\n",
       "      <td>187</td>\n",
       "    </tr>\n",
       "  </tbody>\n",
       "</table>\n",
       "</div>"
      ],
      "text/plain": [
       "                                                     cat  freq\n",
       "554                                              Fiction  2007\n",
       "308                                        Short stories  1858\n",
       "93                                       Science fiction  1652\n",
       "32                                     Adventure stories   923\n",
       "60                                    Historical fiction   759\n",
       "66                                          Love stories   719\n",
       "155                  Conduct of life -- Juvenile fiction   699\n",
       "390                                               Poetry   693\n",
       "436                        Detective and mystery stories   606\n",
       "6985                English wit and humor -- Periodicals   556\n",
       "301                   Man-woman relationships -- Fiction   487\n",
       "561                                      Western stories   449\n",
       "174                                   Children's stories   406\n",
       "324                                   England -- Fiction   388\n",
       "173                                          Fairy tales   365\n",
       "157                       Friendship -- Juvenile fiction   347\n",
       "799                                             Comedies   328\n",
       "62                                      Domestic fiction   328\n",
       "119                               Young women -- Fiction   327\n",
       "206                                     Humorous stories   311\n",
       "25                                           Sea stories   287\n",
       "3378     Children -- Conduct of life -- Juvenile fiction   283\n",
       "1403                     English fiction -- 19th century   272\n",
       "4278                  Christian life -- Juvenile fiction   270\n",
       "1002       Adventure and adventurers -- Juvenile fiction   268\n",
       "26                                 Psychological fiction   248\n",
       "292    England -- Social life and customs -- 19th cen...   246\n",
       "221                                      Fantasy fiction   244\n",
       "1078            Brothers and sisters -- Juvenile fiction   240\n",
       "154              Voyages and travels -- Juvenile fiction   237\n",
       "3440         German fiction -- Translations into English   232\n",
       "1008                         Animals -- Juvenile fiction   226\n",
       "275                                               Essays   225\n",
       "118                                       Bildungsromans   223\n",
       "10136                  Illustrated periodicals -- France   222\n",
       "98                                           War stories   222\n",
       "6967                Questions and answers -- Periodicals   219\n",
       "457          French fiction -- Translations into English   214\n",
       "415                Inheritance and succession -- Fiction   211\n",
       "258                                      Mystery fiction   210\n",
       "1001                           Girls -- Juvenile fiction   210\n",
       "447                        Mystery and detective stories   208\n",
       "177                                       English poetry   208\n",
       "109                          London (England) -- Fiction   207\n",
       "77                                             Tragedies   206\n",
       "3742   Popular literature -- Great Britain -- Periodi...   202\n",
       "1358       England -- Social life and customs -- Fiction   197\n",
       "647                              Short stories, American   190\n",
       "1678                              Science -- Periodicals   188\n",
       "298                                      American poetry   187"
      ]
     },
     "execution_count": 34,
     "metadata": {},
     "output_type": "execute_result"
    }
   ],
   "source": [
    "df_cat.sort_values(by = 'freq', ascending = False)[:50]"
   ]
  },
  {
   "cell_type": "code",
   "execution_count": null,
   "metadata": {},
   "outputs": [],
   "source": []
  }
 ],
 "metadata": {
  "kernelspec": {
   "display_name": "Python 3",
   "language": "python",
   "name": "python3"
  },
  "language_info": {
   "codemirror_mode": {
    "name": "ipython",
    "version": 3
   },
   "file_extension": ".py",
   "mimetype": "text/x-python",
   "name": "python",
   "nbconvert_exporter": "python",
   "pygments_lexer": "ipython3",
   "version": "3.7.6"
  },
  "toc": {
   "base_numbering": 1,
   "nav_menu": {},
   "number_sections": false,
   "sideBar": true,
   "skip_h1_title": false,
   "title_cell": "Table of Contents",
   "title_sidebar": "Contents",
   "toc_cell": false,
   "toc_position": {},
   "toc_section_display": true,
   "toc_window_display": true
  }
 },
 "nbformat": 4,
 "nbformat_minor": 4
}
